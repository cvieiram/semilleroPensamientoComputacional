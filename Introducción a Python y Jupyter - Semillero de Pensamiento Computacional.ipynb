{
 "cells": [
  {
   "cell_type": "markdown",
   "metadata": {},
   "source": [
    "# Semillero de Pensamiento Computacional"
   ]
  },
  {
   "cell_type": "markdown",
   "metadata": {},
   "source": [
    "Estos Notebooks de Python fueron creados por el profesor Camilo Vieira (PhD) del grupo de *Informática Educativa* para el curso de Algoritmia y Programación I de la Universidad del Norte, en Barranquilla - Colombia. \n",
    "\n",
    "Todos estos materiales cuentan con una licencia **Creative Commons** de libre uso con atribución.\n",
    "\n",
    "**Información de Contacto:** \n",
    "- cvieira@uninorte.edu.co\n",
    "- @cvieiram\n",
    "- https://cvieira77.wixsite.com/personal"
   ]
  },
  {
   "cell_type": "markdown",
   "metadata": {},
   "source": [
    "## Python y Jupyter\n",
    "*Python* es un lenguaje de programación muy usado en **ciencias e ingeniería**. Python te permite crear programas que resuelvan problemas automatizando tareas repetitivas, procesando grandes cantidades de datos, resolviendo complejos cálculos matemáticos, o simplemente, creando visualizaciones de fenónenos complejos. \n",
    "\n",
    "*Jupyter* es un editor de texto y código que nos permite integrar éstos dos elementos en una página web que llamaremos NoteBook NB), para poder integrar explicaciones, ejecutar código, e incluir ejercicios prácticos. Cada que encuentres el texto **In [ ]** a la izquierda de una caja de texto, quiere decir que puedes ejecutar esta instrucción.\n",
    "\n",
    "Al finalizar esta actividad estarás en capacidad de:\n",
    "- Explicar pequeñas secuencias de pasos escritas en Python para hacer operaciones matemáticas\n",
    "- Modificar instrucciones en Python para resolver problemas específicos\n"
   ]
  },
  {
   "cell_type": "markdown",
   "metadata": {},
   "source": [
    "### Instrucciones, Variables, y Operaciones Matemáticas"
   ]
  },
  {
   "cell_type": "markdown",
   "metadata": {},
   "source": [
    "Comencemos por lo más sencillo... Recuerda que programar significa darle instrucciones al computador para que haga lo que yo quiera. Podemos comenzar por pedirle que imprima algo para nosotros: "
   ]
  },
  {
   "cell_type": "code",
   "execution_count": 1,
   "metadata": {},
   "outputs": [
    {
     "name": "stdout",
     "output_type": "stream",
     "text": [
      "Mi primera instrucción al computador!\n"
     ]
    }
   ],
   "source": [
    "print('Mi primera instrucción al computador!')"
   ]
  },
  {
   "cell_type": "markdown",
   "metadata": {},
   "source": [
    "### Actividad\n",
    "Lo que hicimos fue simplemente decirle al computador que imprimiera (**print**) el texto que estaba entre las comillas. Ahora tu puedes hacer que imprima algo diferente. Escribe tu instrucción en el siguiente espacio y luego lo podrás ejecutar. "
   ]
  },
  {
   "cell_type": "code",
   "execution_count": null,
   "metadata": {},
   "outputs": [],
   "source": []
  },
  {
   "cell_type": "markdown",
   "metadata": {},
   "source": [
    "Vamos a hacer algo más interesante, vamos a crear una variable y hacer algunas operaciones con ésta.\n",
    "\n",
    "Una variable es *un espacio donde podemos guardar un valor*. A diferencia de otros lenguajes de programación, en Python no es necesario establecer un tipo de dato desde el inicio, sino que nuestra variable puede tomar cualquier valor. Por ejemplo, en la siguiente instrucción estamos asignando el valor de **5,** a la variable **y**."
   ]
  },
  {
   "cell_type": "code",
   "execution_count": 2,
   "metadata": {},
   "outputs": [],
   "source": [
    "y=5"
   ]
  },
  {
   "cell_type": "markdown",
   "metadata": {},
   "source": [
    "Por ahora no vemos nada, pero qué tal si imprimirmos la variable **y**?"
   ]
  },
  {
   "cell_type": "code",
   "execution_count": 3,
   "metadata": {},
   "outputs": [
    {
     "name": "stdout",
     "output_type": "stream",
     "text": [
      "5\n"
     ]
    }
   ],
   "source": [
    "print(y)"
   ]
  },
  {
   "cell_type": "markdown",
   "metadata": {},
   "source": [
    "Nota que en este caso no pusimos las comillas. Esto es porque en la parte de arriba queríamos imprimir el texto entre comillas, mientras aquí queríamos imprimir el contenido de una variable **y**. Mira lo que ocurre si pones las comillas:"
   ]
  },
  {
   "cell_type": "code",
   "execution_count": 4,
   "metadata": {},
   "outputs": [
    {
     "name": "stdout",
     "output_type": "stream",
     "text": [
      "y\n"
     ]
    }
   ],
   "source": [
    "print('y')"
   ]
  },
  {
   "cell_type": "markdown",
   "metadata": {},
   "source": [
    "Como el valor que asignamos a la variable **y,** es un número, podemos hacer algunas operaciones matemáticas con esta variable. Por ejemplo, acá vamos a multiplicarla por 2, y almacenar el resultado en una nueva variable **x**."
   ]
  },
  {
   "cell_type": "code",
   "execution_count": 5,
   "metadata": {},
   "outputs": [],
   "source": [
    "x = y*2"
   ]
  },
  {
   "cell_type": "markdown",
   "metadata": {},
   "source": [
    "### Actividad\n",
    "Divide el valor de *x* entre 3, y verifica el resultado"
   ]
  },
  {
   "cell_type": "code",
   "execution_count": null,
   "metadata": {},
   "outputs": [],
   "source": []
  },
  {
   "cell_type": "markdown",
   "metadata": {},
   "source": [
    "Otros operadores matemáticos que podemos usar en Python son **+, -, /, y \\****. Éste último ( \\** ) corresponde a la potenciación. Por ejemplo: **x\\*\\*2,** significa *x al cuadrado*. **Pruébalo en el siguiente espacio**"
   ]
  },
  {
   "cell_type": "code",
   "execution_count": null,
   "metadata": {},
   "outputs": [],
   "source": []
  },
  {
   "cell_type": "markdown",
   "metadata": {},
   "source": [
    "Además de estas operaciones matemáticas básicas, también podemos importar otras operaciones o funciones desde una \"**librería**\" (aunque la traducción correcta de **library** es *biblioteca*, en español se ha vuelto más común hablar de librerías). \n",
    "\n",
    "Por ejemplo, podemos usar la función raíz cuadrada **sqrt** importando **math**."
   ]
  },
  {
   "cell_type": "code",
   "execution_count": 6,
   "metadata": {},
   "outputs": [
    {
     "data": {
      "text/plain": [
       "3.1622776601683795"
      ]
     },
     "execution_count": 6,
     "metadata": {},
     "output_type": "execute_result"
    }
   ],
   "source": [
    "import math\n",
    "math.sqrt(x)"
   ]
  },
  {
   "cell_type": "markdown",
   "metadata": {},
   "source": [
    "Puedes ver todas las funciones que tiene esta biblioteca y cómo se usan, con los siguientes comandos:"
   ]
  },
  {
   "cell_type": "code",
   "execution_count": 7,
   "metadata": {},
   "outputs": [
    {
     "name": "stdout",
     "output_type": "stream",
     "text": [
      "Help on built-in function sqrt in module math:\n",
      "\n",
      "sqrt(x, /)\n",
      "    Return the square root of x.\n",
      "\n"
     ]
    }
   ],
   "source": [
    "#dir(math)           # Lista de funciones\n",
    "#help(math)          # Ayuda sobre la librería math\n",
    "help(math.sqrt)     # Ayuda sobre la función sqrt"
   ]
  },
  {
   "cell_type": "markdown",
   "metadata": {},
   "source": [
    "En realidad la instrucción anterior solo ejecutó **help(math.sqrt)** . Esto es porque las otras dos instruccinoes tenían el signo **#,** que indica que esa línea es un comentario. Si lo borras del inicio de la línea, podrás ver lo que hacen las funciones **dir(math)** y **help(math)** "
   ]
  },
  {
   "cell_type": "markdown",
   "metadata": {},
   "source": [
    "Librerías como **math** pueden ayudarte a hacer cálculos complejos. Esta es una de las primeras razones por las cuales es muy importante que aprendamos a programar. Un lenguaje como Python te permite automatizar muchos cálculos en poco tiempo."
   ]
  },
  {
   "cell_type": "markdown",
   "metadata": {},
   "source": [
    "### Actividad\n",
    "\n",
    "Asigna la raiz cuadrada de **x,** a una variable **b,** redondea este valor a cero decimales y luego calcula el **factorial** de este número\n"
   ]
  },
  {
   "cell_type": "code",
   "execution_count": null,
   "metadata": {},
   "outputs": [],
   "source": []
  },
  {
   "cell_type": "markdown",
   "metadata": {},
   "source": [
    "Aunque Python no exige declarar un tipo de variable y nunca cambiarlo (como si ocurre en otros lenguajes), cada variable si asume un tipo según el dato que tenga almacenado. Por ejemplo:"
   ]
  },
  {
   "cell_type": "code",
   "execution_count": 8,
   "metadata": {},
   "outputs": [],
   "source": [
    "a = 5     # Esto es un Entero (No tiene decimales)\n",
    "b = 5.3   # Esto es un flotante (Un número que puede tener comas decimals)\n",
    "c = '5'   # Esto es un texto, y por ende, no podemos hacer operaciones matemáticas con c"
   ]
  },
  {
   "cell_type": "markdown",
   "metadata": {},
   "source": [
    "Podemos ver el tipo de dato de cada variable con  la función **type**"
   ]
  },
  {
   "cell_type": "code",
   "execution_count": 9,
   "metadata": {},
   "outputs": [
    {
     "data": {
      "text/plain": [
       "int"
      ]
     },
     "execution_count": 9,
     "metadata": {},
     "output_type": "execute_result"
    }
   ],
   "source": [
    "type(a)"
   ]
  },
  {
   "cell_type": "code",
   "execution_count": 10,
   "metadata": {},
   "outputs": [
    {
     "data": {
      "text/plain": [
       "float"
      ]
     },
     "execution_count": 10,
     "metadata": {},
     "output_type": "execute_result"
    }
   ],
   "source": [
    "type(b)"
   ]
  },
  {
   "cell_type": "code",
   "execution_count": 11,
   "metadata": {},
   "outputs": [
    {
     "data": {
      "text/plain": [
       "str"
      ]
     },
     "execution_count": 11,
     "metadata": {},
     "output_type": "execute_result"
    }
   ],
   "source": [
    "type(c)"
   ]
  },
  {
   "cell_type": "markdown",
   "metadata": {},
   "source": [
    "Puedes multiplicar un entero por un flotante:"
   ]
  },
  {
   "cell_type": "code",
   "execution_count": 12,
   "metadata": {},
   "outputs": [
    {
     "data": {
      "text/plain": [
       "26.5"
      ]
     },
     "execution_count": 12,
     "metadata": {},
     "output_type": "execute_result"
    }
   ],
   "source": [
    "a*b"
   ]
  },
  {
   "cell_type": "markdown",
   "metadata": {},
   "source": [
    "Pero si multiplicas números con texto, puedes obtener algunos resultados inesperados:"
   ]
  },
  {
   "cell_type": "code",
   "execution_count": 13,
   "metadata": {},
   "outputs": [
    {
     "data": {
      "text/plain": [
       "'55555'"
      ]
     },
     "execution_count": 13,
     "metadata": {},
     "output_type": "execute_result"
    }
   ],
   "source": [
    "a*c"
   ]
  },
  {
   "cell_type": "code",
   "execution_count": 14,
   "metadata": {},
   "outputs": [
    {
     "ename": "TypeError",
     "evalue": "can't multiply sequence by non-int of type 'float'",
     "output_type": "error",
     "traceback": [
      "\u001b[1;31m---------------------------------------------------------------------------\u001b[0m",
      "\u001b[1;31mTypeError\u001b[0m                                 Traceback (most recent call last)",
      "\u001b[1;32m<ipython-input-14-655218739977>\u001b[0m in \u001b[0;36m<module>\u001b[1;34m\u001b[0m\n\u001b[1;32m----> 1\u001b[1;33m \u001b[0mb\u001b[0m\u001b[1;33m*\u001b[0m\u001b[0mc\u001b[0m\u001b[1;33m\u001b[0m\u001b[1;33m\u001b[0m\u001b[0m\n\u001b[0m",
      "\u001b[1;31mTypeError\u001b[0m: can't multiply sequence by non-int of type 'float'"
     ]
    }
   ],
   "source": [
    "b*c"
   ]
  },
  {
   "cell_type": "markdown",
   "metadata": {},
   "source": [
    "**Pregunta:** ¿Por que crees que estás obteniendo estos resultados?"
   ]
  },
  {
   "cell_type": "markdown",
   "metadata": {},
   "source": [
    "Tendríamos que hacer una conversión para poder hacer dicha multiplicación:"
   ]
  },
  {
   "cell_type": "code",
   "execution_count": null,
   "metadata": {},
   "outputs": [],
   "source": [
    "int(c)*b"
   ]
  },
  {
   "cell_type": "markdown",
   "metadata": {},
   "source": [
    "Hay además otro tipo de variables. Por ejemplo, las variables **booleanas** solo pueden almacenar dos valores: *verdadero* o *falso* .  Esto sirve por ejemplo cuando quieres saber si una máquina está encendida o apagada, o si una compuerta está abierta o cerrada"
   ]
  },
  {
   "cell_type": "code",
   "execution_count": null,
   "metadata": {},
   "outputs": [],
   "source": [
    "encendido = True\n",
    "print(encendido)\n",
    "type(encendido)"
   ]
  },
  {
   "cell_type": "markdown",
   "metadata": {},
   "source": [
    "## Actividades"
   ]
  },
  {
   "cell_type": "markdown",
   "metadata": {},
   "source": [
    "Vamos ahora a practicar un poco. Completa los siguientes retos de programación:\n",
    "\n",
    "- Calcula tu promedio del semestre pasado, y almacénalo en una variable **x**.\n",
    "\n",
    "- Evalúa las siguientes expresiones utilizando Python cuando a=2.1 y b=-1\n",
    "\n",
    "\\begin{equation*}\n",
    "\\frac{a^2}{(10+b)^{1/3}} \n",
    "\\end{equation*}\n",
    "\n",
    "\\begin{equation*}\n",
    "a^2 + b^2 +2ab\\sin{(\\frac{\\pi}{7})} \n",
    "\\end{equation*}\n",
    "\n",
    "Considera las siguientes ecuaciones:\n",
    "\n",
    "- Utiliza la fórmula general (formula del bachiller) para calcular los posibles valores que puede tomar X, e imprime éstos valores\n",
    "\n",
    "$$ 4x^2 -2x +30 $$\n",
    "\n",
    "$$ 3x^2 -(2/3)x +26 $$\n",
    "\n",
    "- La distancia entre dos átomos en un espacio tridimensional como el de la figura está dado por la siguiente ecuación:\n",
    "\n",
    "$$ d = \\sqrt{(x_2 -x_1)^2+(y_2 -y_1)^2+(z_2 -z_1)^2} $$\n",
    "\n",
    "Donde la posición del átomo 1 está dado por: $$ (x_1, y_1, z_1) $$\n",
    "y la posición del átomo 2 está dado por: $$ (x_2, y_2, z_2) $$\n",
    "\n",
    "<img src=\"https://i.imgur.com/aeu2ccp.gif\" width=\"380\">\n",
    "\n",
    "Calcula la distancia entre dos átomos ubicados en las siguientes posiciones:\n",
    "$$ Atomo_1= (0,1,0) $$ y  $$ Atomo_2= (1,2,-1) $$\n"
   ]
  },
  {
   "cell_type": "code",
   "execution_count": null,
   "metadata": {},
   "outputs": [],
   "source": []
  },
  {
   "cell_type": "code",
   "execution_count": null,
   "metadata": {},
   "outputs": [],
   "source": []
  }
 ],
 "metadata": {
  "kernelspec": {
   "display_name": "Python 3",
   "language": "python",
   "name": "python3"
  },
  "language_info": {
   "codemirror_mode": {
    "name": "ipython",
    "version": 3
   },
   "file_extension": ".py",
   "mimetype": "text/x-python",
   "name": "python",
   "nbconvert_exporter": "python",
   "pygments_lexer": "ipython3",
   "version": "3.7.3"
  }
 },
 "nbformat": 4,
 "nbformat_minor": 2
}
